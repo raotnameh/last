{
 "cells": [
  {
   "cell_type": "code",
   "execution_count": 63,
   "metadata": {},
   "outputs": [],
   "source": [
    "import torch\n",
    "\n",
    "# Dummy data\n",
    "B, T, C = 2, 4, 3\n",
    "x = torch.randn(B, T, C)\n",
    "\n",
    "# Padding mask: True = padded, False = valid\n",
    "padding_mask = torch.tensor([\n",
    "    [[False], [False], [True], [True]],\n",
    "    [[False], [False], [False], [True]]\n",
    "])  # shape: (2, 4, 1)\n"
   ]
  },
  {
   "cell_type": "code",
   "execution_count": 64,
   "metadata": {},
   "outputs": [
    {
     "data": {
      "text/plain": [
       "(tensor([[[False],\n",
       "          [False],\n",
       "          [ True],\n",
       "          [ True]],\n",
       " \n",
       "         [[False],\n",
       "          [False],\n",
       "          [False],\n",
       "          [ True]]]),\n",
       " tensor([[[ 0.5609, -0.0648, -1.4102],\n",
       "          [-0.4475, -0.9958,  3.3383],\n",
       "          [ 1.6151,  0.5140, -1.1407],\n",
       "          [ 0.1531,  0.0459, -0.5662]],\n",
       " \n",
       "         [[ 1.1257,  1.3748,  1.2894],\n",
       "          [ 1.0034,  0.4477, -0.8479],\n",
       "          [ 1.5721,  0.1862, -0.0162],\n",
       "          [-1.0669,  0.2631,  0.1311]]]))"
      ]
     },
     "execution_count": 64,
     "metadata": {},
     "output_type": "execute_result"
    }
   ],
   "source": [
    "padding_mask, x"
   ]
  },
  {
   "cell_type": "code",
   "execution_count": 65,
   "metadata": {},
   "outputs": [
    {
     "data": {
      "text/plain": [
       "tensor([[-0.4475, -0.9958,  3.3383],\n",
       "        [ 1.5721,  0.1862, -0.0162]])"
      ]
     },
     "execution_count": 65,
     "metadata": {},
     "output_type": "execute_result"
    }
   ],
   "source": [
    "B, T, C = x.size()\n",
    "padding_mask = padding_mask.squeeze(-1)\n",
    "time_indices = torch.arange(T).view(1, T, 1).expand(B, T, C)\n",
    "expanded_mask = padding_mask.unsqueeze(-1).expand(B, T, C)\n",
    "masked_indices = time_indices.masked_fill(expanded_mask, -1)\n",
    "last_valid_t = masked_indices.max(dim=1).values\n",
    "gather_index = last_valid_t.unsqueeze(1)  # (B, 1, C)\n",
    "x = torch.gather(x, dim=1, index=gather_index)  # (B, 1, C)\n",
    "x = x.squeeze(1)  # (B, C)\n",
    "x"
   ]
  },
  {
   "cell_type": "code",
   "execution_count": 66,
   "metadata": {},
   "outputs": [
    {
     "data": {
      "text/plain": [
       "tensor([[[1, 1, 1]],\n",
       "\n",
       "        [[2, 2, 2]]])"
      ]
     },
     "execution_count": 66,
     "metadata": {},
     "output_type": "execute_result"
    }
   ],
   "source": [
    "gather_index"
   ]
  },
  {
   "cell_type": "code",
   "execution_count": null,
   "metadata": {},
   "outputs": [],
   "source": []
  }
 ],
 "metadata": {
  "kernelspec": {
   "display_name": "last",
   "language": "python",
   "name": "python3"
  },
  "language_info": {
   "codemirror_mode": {
    "name": "ipython",
    "version": 3
   },
   "file_extension": ".py",
   "mimetype": "text/x-python",
   "name": "python",
   "nbconvert_exporter": "python",
   "pygments_lexer": "ipython3",
   "version": "3.10.16"
  }
 },
 "nbformat": 4,
 "nbformat_minor": 2
}
