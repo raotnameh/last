{
 "cells": [
  {
   "cell_type": "code",
   "execution_count": 5,
   "metadata": {},
   "outputs": [
    {
     "name": "stdout",
     "output_type": "stream",
     "text": [
      "Test Case 1 - Low divergence: 0.00010334770195186138\n",
      "Test Case 2 - High divergence: 0.8066102862358093\n"
     ]
    }
   ],
   "source": [
    "import torch\n",
    "\n",
    "def js_divergence(p, q, eps=1e-12):\n",
    "    \"\"\"\n",
    "    Compute the Jensen-Shannon divergence between two 1D probability distributions p and q.\n",
    "    \n",
    "    Parameters:\n",
    "        p (torch.Tensor): 1D tensor for the predicted probability distribution.\n",
    "        q (torch.Tensor): 1D tensor for the target probability distribution.\n",
    "        eps (float): Small constant to avoid numerical issues (log(0)).\n",
    "        \n",
    "    Returns:\n",
    "        torch.Tensor: A scalar representing the JS divergence.\n",
    "    \"\"\"\n",
    "    # Calculate the mixture distribution\n",
    "    m = 0.5 * (p + q)\n",
    "    \n",
    "    # Compute KL divergences\n",
    "    kl_pm = torch.sum(p * torch.log(p / torch.clamp(m, min=eps)))\n",
    "    kl_qm = torch.sum(q * torch.log(q / torch.clamp(m, min=eps)))\n",
    "    \n",
    "    # Return the Jensen-Shannon divergence\n",
    "    js = 0.5 * (kl_pm + kl_qm)\n",
    "    return js\n",
    "\n",
    "# -------------------------------\n",
    "# Test Case 1: Low divergence\n",
    "# p1 and q1 are very similar distributions.\n",
    "p1 = torch.tensor([0.2, 0.3, 0.5], dtype=torch.float32)\n",
    "q1 = torch.tensor([0.21, 0.29, 0.5], dtype=torch.float32)\n",
    "\n",
    "js_loss_low = js_divergence(p1, q1)\n",
    "print(\"Test Case 1 - Low divergence:\", js_loss_low.item())\n",
    "\n",
    "# -------------------------------\n",
    "# Test Case 2: High divergence\n",
    "# p2 and q2 are very different distributions.\n",
    "p2 = torch.tensor([0.9, 0.05, 0.05], dtype=torch.float32)\n",
    "q2 = torch.tensor([0.000001, 0.90000999999, 0.9999999], dtype=torch.float32)\n",
    "\n",
    "js_loss_high = js_divergence(p2, q2)\n",
    "print(\"Test Case 2 - High divergence:\", js_loss_high.item())\n"
   ]
  },
  {
   "cell_type": "code",
   "execution_count": null,
   "metadata": {},
   "outputs": [],
   "source": []
  }
 ],
 "metadata": {
  "kernelspec": {
   "display_name": "langspeech",
   "language": "python",
   "name": "python3"
  },
  "language_info": {
   "codemirror_mode": {
    "name": "ipython",
    "version": 3
   },
   "file_extension": ".py",
   "mimetype": "text/x-python",
   "name": "python",
   "nbconvert_exporter": "python",
   "pygments_lexer": "ipython3",
   "version": "3.9.21"
  }
 },
 "nbformat": 4,
 "nbformat_minor": 2
}
