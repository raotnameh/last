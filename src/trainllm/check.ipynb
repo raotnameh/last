{
 "cells": [
  {
   "cell_type": "code",
   "execution_count": 1,
   "metadata": {},
   "outputs": [
    {
     "name": "stderr",
     "output_type": "stream",
     "text": [
      "/raid/home/rajivratn/anaconda3/envs/langspeech/lib/python3.9/site-packages/tqdm/auto.py:21: TqdmWarning: IProgress not found. Please update jupyter and ipywidgets. See https://ipywidgets.readthedocs.io/en/stable/user_install.html\n",
      "  from .autonotebook import tqdm as notebook_tqdm\n"
     ]
    },
    {
     "name": "stdout",
     "output_type": "stream",
     "text": [
      "tensor([ 7.7038, 16.1465,  7.2641,  9.9082,  9.7559,  9.9847,  5.8833,  8.3834,\n",
      "         5.3928,  9.3260,  4.6238,  5.3816,  7.9783,  3.1041,  1.0387,  0.0580],\n",
      "       device='cuda:7')\n",
      "H e m a n t   i s   m y   n a m e, Cross-entropy loss: 6.9958\n",
      "tensor([ 7.7038, 15.7044,  9.0453, 17.8625, 17.1960, 18.0365, 20.9620, 17.3959,\n",
      "        14.8000, 14.1764, 14.0326, 17.6092, 12.9568, 12.5221, 12.1310, 11.6546],\n",
      "       device='cuda:7')\n",
      "H e e e m m m a n n n n t   i i i, Cross-entropy loss: 14.6118\n",
      "tensor([ 6.3487, 19.8938, 23.1241, 17.7659, 12.7637, 14.2960, 16.9378, 14.7384,\n",
      "        18.0471, 21.9016, 24.7260, 26.8820, 26.2623, 25.4903, 21.6811, 24.6643],\n",
      "       device='cuda:7')\n",
      "D R N O T   T L   K T C R N T   S, Cross-entropy loss: 19.7202\n"
     ]
    }
   ],
   "source": [
    "import torch\n",
    "\n",
    "from transformers import AutoTokenizer, AutoModelForCausalLM\n",
    "# --- Config ---\n",
    "model_dir = \"meta-llama/Llama-3.2-1B\"\n",
    "device = torch.device(\"cpu\")\n",
    "torch.backends.cudnn.benchmark = True\n",
    "\n",
    "\n",
    "tokenizer = AutoTokenizer.from_pretrained(model_dir)\n",
    "tokenizer.pad_token = tokenizer.eos_token\n",
    "\n",
    "\n",
    "model_dir = \"/raid/home/rajivratn/hemant_rajivratn/last/src/trainllm/charllama-finetuned/checkpoint/\"\n",
    "\n",
    "model = AutoModelForCausalLM.from_pretrained(model_dir).to(device)\n",
    "model.eval()\n",
    "device = torch.device(\"cuda:7\")\n",
    "model.to(device)\n",
    "\n",
    "\n",
    "input_texts = [\n",
    "    \"Hemant is my name\",\n",
    "    \"Heeemmmannnnt iii\",\n",
    "    \"DRNOT TL KTCRNT S\"\n",
    "]\n",
    "\n",
    "input_texts = [\" \".join(list(text)) for text in input_texts]\n",
    "criterion = torch.nn.CrossEntropyLoss(reduction='none') \n",
    "with torch.no_grad():\n",
    "    for text in input_texts:\n",
    "        tokens = tokenizer(\n",
    "            text,\n",
    "            return_tensors='pt',\n",
    "            add_special_tokens=False  # <-- This disables special tokens\n",
    "        )\n",
    "\n",
    "        input_ids = tokens['input_ids']\n",
    "        input_ids = input_ids.to(device)\n",
    "        labels = input_ids.clone()\n",
    "\n",
    "       \n",
    "        # Forward pass to get logits\n",
    "        outputs = model(input_ids=input_ids, labels=input_ids)\n",
    "        logits = outputs.logits  # shape: (batch_size, sequence_length, vocab_size)\n",
    "        \n",
    "        # \n",
    "        logits = outputs.logits  # shape: (1, seq_len, vocab_size)\n",
    "\n",
    "        # Shift logits and labels for causal language modeling\n",
    "        shift_logits = logits[:, :-1, :].contiguous()\n",
    "        shift_labels = labels[:, 1:].contiguous()\n",
    "\n",
    "        # Flatten for cross-entropy: (batch * seq_len, vocab_size) vs (batch * seq_len)\n",
    "        loss = criterion(\n",
    "            shift_logits.view(-1, shift_logits.size(-1)),\n",
    "            shift_labels.view(-1)\n",
    "        )\n",
    "        print(loss)\n",
    "\n",
    "        loss = outputs.loss\n",
    "        print(f'{text}, Cross-entropy loss: {loss.item():.4f}')"
   ]
  },
  {
   "cell_type": "code",
   "execution_count": null,
   "metadata": {},
   "outputs": [],
   "source": [
    "# H e m a n t   i s   m y   n a m e, Cross-entropy loss: 3.2496\n",
    "# H e e e m m m a n n n n t   i i i, Cross-entropy loss: 3.1241\n",
    "# D R N O T   T L   K T C R N T   S, Cross-entropy loss: 3.9608"
   ]
  },
  {
   "cell_type": "code",
   "execution_count": null,
   "metadata": {},
   "outputs": [],
   "source": [
    "# H e m a n t   i s   m y   n a m e, Cross-entropy loss: 3.1271\n",
    "# H e e e m m m a n n n n t   i i i, Cross-entropy loss: 3.0889\n",
    "# D R N O T   T L   K T C R N T   S, Cross-entropy loss: 3.6400"
   ]
  },
  {
   "cell_type": "code",
   "execution_count": null,
   "metadata": {},
   "outputs": [],
   "source": []
  },
  {
   "cell_type": "code",
   "execution_count": null,
   "metadata": {},
   "outputs": [],
   "source": []
  },
  {
   "cell_type": "code",
   "execution_count": null,
   "metadata": {},
   "outputs": [],
   "source": []
  }
 ],
 "metadata": {
  "kernelspec": {
   "display_name": "langspeech",
   "language": "python",
   "name": "python3"
  },
  "language_info": {
   "codemirror_mode": {
    "name": "ipython",
    "version": 3
   },
   "file_extension": ".py",
   "mimetype": "text/x-python",
   "name": "python",
   "nbconvert_exporter": "python",
   "pygments_lexer": "ipython3",
   "version": "3.9.22"
  }
 },
 "nbformat": 4,
 "nbformat_minor": 2
}
