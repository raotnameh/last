{
 "cells": [
  {
   "cell_type": "code",
   "execution_count": 1,
   "metadata": {},
   "outputs": [],
   "source": [
    "\n",
    "from audiotools import AudioSignal\n",
    "\n",
    "# Load audio signal file\n",
    "signal = AudioSignal('/raid/home/rajivratn/hemant_rajivratn/last/data/input.wav')\n"
   ]
  },
  {
   "cell_type": "code",
   "execution_count": 2,
   "metadata": {},
   "outputs": [
    {
     "data": {
      "text/plain": [
       "torch.Size([1, 1, 94480])"
      ]
     },
     "execution_count": 2,
     "metadata": {},
     "output_type": "execute_result"
    }
   ],
   "source": [
    "signal.shape"
   ]
  },
  {
   "cell_type": "code",
   "execution_count": 5,
   "metadata": {},
   "outputs": [],
   "source": [
    "import dac\n",
    "from audiotools import AudioSignal\n",
    "\n",
    "# Download a model\n",
    "model_path = dac.utils.download(model_type=\"16khz\")\n",
    "model = dac.DAC.load(model_path)\n",
    "\n",
    "model.to('cpu')\n",
    "\n",
    "# Encode audio signal as one long file\n",
    "# (may run out of GPU memory on long files)\n",
    "signal.to(model.device)\n",
    "\n",
    "x = model.preprocess(signal.audio_data, signal.sample_rate)\n",
    "z, codes, latents, _, _ = model.encode(x)\n"
   ]
  },
  {
   "cell_type": "code",
   "execution_count": 21,
   "metadata": {},
   "outputs": [
    {
     "data": {
      "text/plain": [
       "torch.Size([1, 1, 94480])"
      ]
     },
     "execution_count": 21,
     "metadata": {},
     "output_type": "execute_result"
    }
   ],
   "source": [
    "signal.audio_data.shape"
   ]
  },
  {
   "cell_type": "code",
   "execution_count": 35,
   "metadata": {},
   "outputs": [
    {
     "data": {
      "text/plain": [
       "(tensor([[0., 0., 0., 0.]]),\n",
       " tensor([[[-0.3729,  0.2726],\n",
       "          [-0.1677,  0.8261],\n",
       "          [-0.5999, -0.0535],\n",
       "          [ 0.5582, -1.1893]]]))"
      ]
     },
     "execution_count": 35,
     "metadata": {},
     "output_type": "execute_result"
    }
   ],
   "source": [
    "import torch\n",
    "m = torch.zeros(1, 4)\n",
    "v = torch.randn(1, 4, 2)\n",
    "# multiply mask m with v\n",
    "m,v"
   ]
  },
  {
   "cell_type": "code",
   "execution_count": 36,
   "metadata": {},
   "outputs": [
    {
     "data": {
      "text/plain": [
       "tensor([[[-0., 0.],\n",
       "         [-0., 0.],\n",
       "         [-0., -0.],\n",
       "         [0., -0.]]])"
      ]
     },
     "execution_count": 36,
     "metadata": {},
     "output_type": "execute_result"
    }
   ],
   "source": [
    "m.unsqueeze(-1) * v"
   ]
  },
  {
   "cell_type": "code",
   "execution_count": null,
   "metadata": {},
   "outputs": [],
   "source": []
  }
 ],
 "metadata": {
  "kernelspec": {
   "display_name": "last",
   "language": "python",
   "name": "python3"
  },
  "language_info": {
   "codemirror_mode": {
    "name": "ipython",
    "version": 3
   },
   "file_extension": ".py",
   "mimetype": "text/x-python",
   "name": "python",
   "nbconvert_exporter": "python",
   "pygments_lexer": "ipython3",
   "version": "3.10.16"
  }
 },
 "nbformat": 4,
 "nbformat_minor": 2
}
