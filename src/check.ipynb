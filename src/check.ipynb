{
 "cells": [
  {
   "cell_type": "code",
   "execution_count": 1,
   "metadata": {},
   "outputs": [
    {
     "name": "stdout",
     "output_type": "stream",
     "text": [
      "float32\n",
      "-0.67541337 0.7454596\n"
     ]
    }
   ],
   "source": [
    "import librosa\n",
    "y, sr = librosa.load(\"/raid/home/rajivratn/hemant_rajivratn/last/data/input.wav\")\n",
    "print(y.dtype)         # float32\n",
    "print(y.min(), y.max())  # should be in [-1.0, 1.0]\n"
   ]
  },
  {
   "cell_type": "code",
   "execution_count": null,
   "metadata": {},
   "outputs": [
    {
     "data": {
      "text/plain": [
       "(tensor([[[0.0038, 0.0044, 0.0039,  ..., 0.0063, 0.0059, 0.0048]]]), 16000)"
      ]
     },
     "execution_count": 3,
     "metadata": {},
     "output_type": "execute_result"
    }
   ],
   "source": [
    "from audiotools import AudioSignal\n",
    "signal = AudioSignal(\"/raid/home/rajivratn/hemant_rajivratn/last/data/input.wav\")\n",
    "signal.audio_data, signal.sample_rate"
   ]
  },
  {
   "cell_type": "code",
   "execution_count": null,
   "metadata": {},
   "outputs": [
    {
     "name": "stdout",
     "output_type": "stream",
     "text": [
      "torch.float32\n",
      "tensor(-0.6715) tensor(0.7465)\n"
     ]
    }
   ],
   "source": [
    "y = signal.audio_data\n",
    "print(y.dtype)         # float32\n",
    "print(y.min(), y.max())  # should be in [-1.0, 1.0]"
   ]
  },
  {
   "cell_type": "code",
   "execution_count": 7,
   "metadata": {},
   "outputs": [
    {
     "name": "stdout",
     "output_type": "stream",
     "text": [
      "float64\n",
      "-0.671478271484375 0.7464599609375\n"
     ]
    }
   ],
   "source": [
    "import soundfile as sf\n",
    "waveform, sample_rate = sf.read(\"/raid/home/rajivratn/hemant_rajivratn/last/data/input.wav\")\n",
    "y = waveform\n",
    "print(y.dtype)         # float32\n",
    "print(y.min(), y.max())  # should be in [-1.0, 1.0]"
   ]
  },
  {
   "cell_type": "code",
   "execution_count": null,
   "metadata": {},
   "outputs": [],
   "source": []
  }
 ],
 "metadata": {
  "kernelspec": {
   "display_name": "langspeech",
   "language": "python",
   "name": "python3"
  },
  "language_info": {
   "codemirror_mode": {
    "name": "ipython",
    "version": 3
   },
   "file_extension": ".py",
   "mimetype": "text/x-python",
   "name": "python",
   "nbconvert_exporter": "python",
   "pygments_lexer": "ipython3",
   "version": "3.9.21"
  }
 },
 "nbformat": 4,
 "nbformat_minor": 2
}
