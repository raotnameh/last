{
 "cells": [
  {
   "cell_type": "code",
   "execution_count": 1,
   "metadata": {},
   "outputs": [],
   "source": [
    "from datasets import load_dataset\n",
    "\n",
    "dataset = load_dataset(\"keithito/lj_speech\", trust_remote_code=True)"
   ]
  },
  {
   "cell_type": "code",
   "execution_count": 2,
   "metadata": {},
   "outputs": [
    {
     "data": {
      "text/plain": [
       "DatasetDict({\n",
       "    train: Dataset({\n",
       "        features: ['id', 'audio', 'file', 'text', 'normalized_text'],\n",
       "        num_rows: 13100\n",
       "    })\n",
       "})"
      ]
     },
     "execution_count": 2,
     "metadata": {},
     "output_type": "execute_result"
    }
   ],
   "source": [
    "dataset"
   ]
  },
  {
   "cell_type": "code",
   "execution_count": 5,
   "metadata": {},
   "outputs": [
    {
     "data": {
      "text/plain": [
       "({'id': 'LJ001-0001',\n",
       "  'audio': {'path': '/raid/home/rajivratn/.cache/huggingface/datasets/downloads/extracted/a19e32395d1e4b005ff54cae9043ff76873b8134eaa4bfbd92c9105a9b91e46a/LJSpeech-1.1/wavs/LJ001-0001.wav',\n",
       "   'array': array([-7.32421875e-04, -7.62939453e-04, -6.40869141e-04, ...,\n",
       "           7.32421875e-04,  2.13623047e-04,  6.10351562e-05]),\n",
       "   'sampling_rate': 22050},\n",
       "  'file': '/raid/home/rajivratn/.cache/huggingface/datasets/downloads/extracted/a19e32395d1e4b005ff54cae9043ff76873b8134eaa4bfbd92c9105a9b91e46a/LJSpeech-1.1/wavs/LJ001-0001.wav',\n",
       "  'text': 'Printing, in the only sense with which we are at present concerned, differs from most if not from all the arts and crafts represented in the Exhibition',\n",
       "  'normalized_text': 'Printing, in the only sense with which we are at present concerned, differs from most if not from all the arts and crafts represented in the Exhibition'},\n",
       " {'path': '/raid/home/rajivratn/.cache/huggingface/datasets/downloads/extracted/a19e32395d1e4b005ff54cae9043ff76873b8134eaa4bfbd92c9105a9b91e46a/LJSpeech-1.1/wavs/LJ001-0001.wav',\n",
       "  'array': array([-7.32421875e-04, -7.62939453e-04, -6.40869141e-04, ...,\n",
       "          7.32421875e-04,  2.13623047e-04,  6.10351562e-05]),\n",
       "  'sampling_rate': 22050},\n",
       " 'Printing, in the only sense with which we are at present concerned, differs from most if not from all the arts and crafts represented in the Exhibition')"
      ]
     },
     "execution_count": 5,
     "metadata": {},
     "output_type": "execute_result"
    }
   ],
   "source": [
    "example = dataset['train'][0]\n",
    "audio = example['audio']\n",
    "transcription = example['text']\n",
    "\n",
    "example, audio, transcription"
   ]
  },
  {
   "cell_type": "code",
   "execution_count": null,
   "metadata": {},
   "outputs": [],
   "source": []
  },
  {
   "cell_type": "code",
   "execution_count": null,
   "metadata": {},
   "outputs": [
    {
     "name": "stderr",
     "output_type": "stream",
     "text": [
      "100%|██████████| 13100/13100 [00:11<00:00, 1183.53it/s]\n"
     ]
    }
   ],
   "source": [
    "from tqdm import tqdm\n",
    "data = {}\n",
    "for e in tqdm(dataset['train']):\n",
    "    data['text'] = e['text']\n",
    "    data['audio'] = e['audio']"
   ]
  },
  {
   "cell_type": "code",
   "execution_count": 27,
   "metadata": {},
   "outputs": [
    {
     "data": {
      "text/plain": [
       "{'text': 'the recommendations we have here suggested would greatly advance the security of the office without any impairment of our fundamental liberties.',\n",
       " 'audio': {'path': '/raid/home/rajivratn/.cache/huggingface/datasets/downloads/extracted/a19e32395d1e4b005ff54cae9043ff76873b8134eaa4bfbd92c9105a9b91e46a/LJSpeech-1.1/wavs/LJ050-0278.wav',\n",
       "  'array': array([ 6.10351562e-05,  6.10351562e-05,  1.52587891e-04, ...,\n",
       "         -3.96728516e-04, -5.18798828e-04, -5.18798828e-04]),\n",
       "  'sampling_rate': 22050}}"
      ]
     },
     "execution_count": 27,
     "metadata": {},
     "output_type": "execute_result"
    }
   ],
   "source": [
    "data"
   ]
  },
  {
   "cell_type": "code",
   "execution_count": 26,
   "metadata": {},
   "outputs": [
    {
     "data": {
      "text/plain": [
       "[('audio',\n",
       "  {'path': '/raid/home/rajivratn/.cache/huggingface/datasets/downloads/extracted/a19e32395d1e4b005ff54cae9043ff76873b8134eaa4bfbd92c9105a9b91e46a/LJSpeech-1.1/wavs/LJ050-0278.wav',\n",
       "   'array': array([ 6.10351562e-05,  6.10351562e-05,  1.52587891e-04, ...,\n",
       "          -3.96728516e-04, -5.18798828e-04, -5.18798828e-04]),\n",
       "   'sampling_rate': 22050}),\n",
       " ('text',\n",
       "  'the recommendations we have here suggested would greatly advance the security of the office without any impairment of our fundamental liberties.')]"
      ]
     },
     "execution_count": 26,
     "metadata": {},
     "output_type": "execute_result"
    }
   ],
   "source": [
    "sorted_data = sorted(data.items(), key=lambda x: x[0])\n",
    "sorted_data"
   ]
  },
  {
   "cell_type": "code",
   "execution_count": null,
   "metadata": {},
   "outputs": [
    {
     "data": {
      "text/plain": [
       "[('audio',\n",
       "  {'path': '/raid/home/rajivratn/.cache/huggingface/datasets/downloads/extracted/a19e32395d1e4b005ff54cae9043ff76873b8134eaa4bfbd92c9105a9b91e46a/LJSpeech-1.1/wavs/LJ050-0278.wav',\n",
       "   'array': array([ 6.10351562e-05,  6.10351562e-05,  1.52587891e-04, ...,\n",
       "          -3.96728516e-04, -5.18798828e-04, -5.18798828e-04]),\n",
       "   'sampling_rate': 22050}),\n",
       " ('text',\n",
       "  'the recommendations we have here suggested would greatly advance the security of the office without any impairment of our fundamental liberties.')]"
      ]
     },
     "execution_count": 25,
     "metadata": {},
     "output_type": "execute_result"
    }
   ],
   "source": []
  },
  {
   "cell_type": "code",
   "execution_count": null,
   "metadata": {},
   "outputs": [],
   "source": []
  },
  {
   "cell_type": "code",
   "execution_count": null,
   "metadata": {},
   "outputs": [
    {
     "data": {
      "text/plain": [
       "[' ',\n",
       " '!',\n",
       " '\"',\n",
       " '$',\n",
       " '&',\n",
       " \"'\",\n",
       " '(',\n",
       " ')',\n",
       " ',',\n",
       " '-',\n",
       " '.',\n",
       " '0',\n",
       " '1',\n",
       " '2',\n",
       " '3',\n",
       " '4',\n",
       " '5',\n",
       " '6',\n",
       " '7',\n",
       " '8',\n",
       " '9',\n",
       " ':',\n",
       " ';',\n",
       " '?',\n",
       " 'A',\n",
       " 'B',\n",
       " 'C',\n",
       " 'D',\n",
       " 'E',\n",
       " 'F',\n",
       " 'G',\n",
       " 'H',\n",
       " 'I',\n",
       " 'J',\n",
       " 'K',\n",
       " 'L',\n",
       " 'M',\n",
       " 'N',\n",
       " 'O',\n",
       " 'P',\n",
       " 'Q',\n",
       " 'R',\n",
       " 'S',\n",
       " 'T',\n",
       " 'U',\n",
       " 'V',\n",
       " 'W',\n",
       " 'X',\n",
       " 'Y',\n",
       " 'Z',\n",
       " '[',\n",
       " ']',\n",
       " 'a',\n",
       " 'b',\n",
       " 'c',\n",
       " 'd',\n",
       " 'e',\n",
       " 'f',\n",
       " 'g',\n",
       " 'h',\n",
       " 'i',\n",
       " 'j',\n",
       " 'k',\n",
       " 'l',\n",
       " 'm',\n",
       " 'n',\n",
       " 'o',\n",
       " 'p',\n",
       " 'q',\n",
       " 'r',\n",
       " 's',\n",
       " 't',\n",
       " 'u',\n",
       " 'v',\n",
       " 'w',\n",
       " 'x',\n",
       " 'y',\n",
       " 'z',\n",
       " '£',\n",
       " 'à',\n",
       " 'â',\n",
       " 'è',\n",
       " 'é',\n",
       " 'ê',\n",
       " 'ü',\n",
       " '’',\n",
       " '“',\n",
       " '”']"
      ]
     },
     "execution_count": 17,
     "metadata": {},
     "output_type": "execute_result"
    }
   ],
   "source": [
    "\n",
    "\n",
    "char_vocab = set()\n",
    "for e in sorted_text:\n",
    "    char_vocab.update(e)\n",
    "\n",
    "char_vocab = sorted(list(char_vocab))\n",
    "char_vocab"
   ]
  },
  {
   "cell_type": "code",
   "execution_count": null,
   "metadata": {},
   "outputs": [],
   "source": []
  }
 ],
 "metadata": {
  "kernelspec": {
   "display_name": "last",
   "language": "python",
   "name": "python3"
  },
  "language_info": {
   "codemirror_mode": {
    "name": "ipython",
    "version": 3
   },
   "file_extension": ".py",
   "mimetype": "text/x-python",
   "name": "python",
   "nbconvert_exporter": "python",
   "pygments_lexer": "ipython3",
   "version": "3.10.16"
  }
 },
 "nbformat": 4,
 "nbformat_minor": 2
}
