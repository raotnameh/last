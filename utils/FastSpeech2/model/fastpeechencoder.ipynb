{
 "cells": [
  {
   "cell_type": "code",
   "execution_count": 1,
   "metadata": {},
   "outputs": [],
   "source": [
    "import sys\n",
    "sys.path.append('/raid/home/rajivratn/hemant_rajivratn/last/utils/FastSpeech2')"
   ]
  },
  {
   "cell_type": "code",
   "execution_count": 2,
   "metadata": {},
   "outputs": [],
   "source": [
    "import yaml\n",
    "\n",
    "preprocess_config = \"/raid/home/rajivratn/hemant_rajivratn/last/utils/FastSpeech2/config/ours/preprocess.yaml\"\n",
    "model_config = \"/raid/home/rajivratn/hemant_rajivratn/last/utils/FastSpeech2/config/ours/model.yaml\"\n",
    "train_config = \"/raid/home/rajivratn/hemant_rajivratn/last/utils/FastSpeech2/config/ours/train.yaml\"\n",
    "# Read Config\n",
    "preprocess_config = yaml.load(\n",
    "    open(preprocess_config, \"r\"), Loader=yaml.FullLoader\n",
    ")\n",
    "model_config = yaml.load(open(model_config, \"r\"), Loader=yaml.FullLoader)\n",
    "train_config = yaml.load(open(train_config, \"r\"), Loader=yaml.FullLoader)\n",
    "configs = (preprocess_config, model_config, train_config)"
   ]
  },
  {
   "cell_type": "code",
   "execution_count": 3,
   "metadata": {},
   "outputs": [],
   "source": [
    "from transformer import Encoder, Decoder, PostNet\n",
    "import torch.nn as nn\n",
    "\n",
    "encoder = Encoder(model_config)\n",
    "linear = nn.Linear(model_config[\"transformer\"][\"encoder_hidden\"], 768)"
   ]
  },
  {
   "cell_type": "code",
   "execution_count": 4,
   "metadata": {},
   "outputs": [
    {
     "data": {
      "text/plain": [
       "Encoder(\n",
       "  (src_word_emb): Embedding(361, 256, padding_idx=0)\n",
       "  (layer_stack): ModuleList(\n",
       "    (0-3): 4 x FFTBlock(\n",
       "      (slf_attn): MultiHeadAttention(\n",
       "        (w_qs): Linear(in_features=256, out_features=256, bias=True)\n",
       "        (w_ks): Linear(in_features=256, out_features=256, bias=True)\n",
       "        (w_vs): Linear(in_features=256, out_features=256, bias=True)\n",
       "        (attention): ScaledDotProductAttention(\n",
       "          (softmax): Softmax(dim=2)\n",
       "        )\n",
       "        (layer_norm): LayerNorm((256,), eps=1e-05, elementwise_affine=True)\n",
       "        (fc): Linear(in_features=256, out_features=256, bias=True)\n",
       "        (dropout): Dropout(p=0.2, inplace=False)\n",
       "      )\n",
       "      (pos_ffn): PositionwiseFeedForward(\n",
       "        (w_1): Conv1d(256, 1024, kernel_size=(9,), stride=(1,), padding=(4,))\n",
       "        (w_2): Conv1d(1024, 256, kernel_size=(1,), stride=(1,))\n",
       "        (layer_norm): LayerNorm((256,), eps=1e-05, elementwise_affine=True)\n",
       "        (dropout): Dropout(p=0.2, inplace=False)\n",
       "      )\n",
       "    )\n",
       "  )\n",
       ")"
      ]
     },
     "execution_count": 4,
     "metadata": {},
     "output_type": "execute_result"
    }
   ],
   "source": [
    "encoder"
   ]
  },
  {
   "cell_type": "code",
   "execution_count": 5,
   "metadata": {},
   "outputs": [
    {
     "data": {
      "text/plain": [
       "11.89632"
      ]
     },
     "execution_count": 5,
     "metadata": {},
     "output_type": "execute_result"
    }
   ],
   "source": [
    "sum(p.numel() for p in encoder.parameters()) / 1e6"
   ]
  },
  {
   "cell_type": "code",
   "execution_count": 6,
   "metadata": {},
   "outputs": [],
   "source": [
    "postnet = PostNet()"
   ]
  },
  {
   "cell_type": "code",
   "execution_count": 9,
   "metadata": {},
   "outputs": [
    {
     "data": {
      "text/plain": [
       "7.872768"
      ]
     },
     "execution_count": 9,
     "metadata": {},
     "output_type": "execute_result"
    }
   ],
   "source": [
    "sum(p.numel() for p in postnet.parameters()) / 1e6"
   ]
  },
  {
   "cell_type": "code",
   "execution_count": null,
   "metadata": {},
   "outputs": [],
   "source": []
  },
  {
   "cell_type": "code",
   "execution_count": null,
   "metadata": {},
   "outputs": [],
   "source": []
  },
  {
   "cell_type": "code",
   "execution_count": null,
   "metadata": {},
   "outputs": [],
   "source": []
  },
  {
   "cell_type": "code",
   "execution_count": null,
   "metadata": {},
   "outputs": [],
   "source": []
  },
  {
   "cell_type": "code",
   "execution_count": null,
   "metadata": {},
   "outputs": [],
   "source": []
  },
  {
   "cell_type": "code",
   "execution_count": null,
   "metadata": {},
   "outputs": [],
   "source": []
  },
  {
   "cell_type": "code",
   "execution_count": null,
   "metadata": {},
   "outputs": [],
   "source": []
  },
  {
   "cell_type": "code",
   "execution_count": null,
   "metadata": {},
   "outputs": [],
   "source": []
  }
 ],
 "metadata": {
  "kernelspec": {
   "display_name": "last",
   "language": "python",
   "name": "python3"
  },
  "language_info": {
   "codemirror_mode": {
    "name": "ipython",
    "version": 3
   },
   "file_extension": ".py",
   "mimetype": "text/x-python",
   "name": "python",
   "nbconvert_exporter": "python",
   "pygments_lexer": "ipython3",
   "version": "3.10.16"
  }
 },
 "nbformat": 4,
 "nbformat_minor": 2
}
