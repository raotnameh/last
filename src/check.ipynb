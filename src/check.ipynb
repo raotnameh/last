{
 "cells": [
  {
   "cell_type": "code",
   "execution_count": 2,
   "metadata": {},
   "outputs": [],
   "source": [
    "import torch\n",
    "import fairseq\n",
    "from fairseq import checkpoint_utils\n",
    "\n",
    "\n",
    "arg_overrides = {\n",
    "    \"apply_mask\": True,\n",
    "\n",
    "    \"mask_selection\": \"static\",\n",
    "    \"mask_length\": 10,\n",
    "    \"mask_other\": 0,\n",
    "    \"mask_prob\": 0.75,\n",
    "\n",
    "    \"mask_channel_selection\": \"static\",\n",
    "    \"mask_channel_length\": 64,\n",
    "    \"mask_channel_other\": 0,\n",
    "    \"mask_channel_prob\": 0.5,\n",
    "\n",
    "    \"encoder_layerdrop\": 0.0,\n",
    "    \"dropout\": 0.0,\n",
    "    \"activation_dropout\": 0.1,\n",
    "    \"attention_dropout\": 0.0,\n",
    "\n",
    "    \"feature_grad_mult\": 0.0,\n",
    "}\n",
    "\n",
    "\n",
    "class Encoder(torch.nn.Module):\n",
    "    def __init__(self, ckpt_path=\"hubert_base_ls960.pt\"):\n",
    "        super().__init__()\n",
    "\n",
    "        state = checkpoint_utils.load_checkpoint_to_cpu(ckpt_path, arg_overrides)\n",
    "    \n",
    "        model, cfg, task = fairseq.checkpoint_utils.load_model_ensemble_and_task([ckpt_path], state=state)\n",
    "    \n",
    "        model[0].remove_pretraining_modules()\n",
    "        \n",
    "        self.model = model[0]\n",
    "    \n",
    "        self.cfg = cfg\n",
    "      \n",
    "    def forward(self, source, padding_mask): \n",
    "        w2v_args = {\n",
    "            \"source\": source, # source: (B, T)\n",
    "            \"padding_mask\": padding_mask, # padding_mask: (B, T), \n",
    "            \"mask\": True and self.training,\n",
    "            \"ret_conv\": False,\n",
    "        }\n",
    "                      \n",
    "        features, x, padding_mask = self.model.extract_features(**w2v_args)\n",
    "\n",
    "        return {\n",
    "            \"cnn_out\": features,  # B x T x C\n",
    "            \"encoder_out\": x,  # B x T x C \n",
    "            \"padding_mask\": padding_mask,  # B x T\n",
    "        }\n",
    "        \n"
   ]
  },
  {
   "cell_type": "code",
   "execution_count": 3,
   "metadata": {},
   "outputs": [
    {
     "ename": "FileNotFoundError",
     "evalue": "[Errno 2] No such file or directory: 'hubert_base_ls960.pt'",
     "output_type": "error",
     "traceback": [
      "\u001b[0;31m---------------------------------------------------------------------------\u001b[0m",
      "\u001b[0;31mFileNotFoundError\u001b[0m                         Traceback (most recent call last)",
      "Cell \u001b[0;32mIn[3], line 1\u001b[0m\n\u001b[0;32m----> 1\u001b[0m \u001b[43mEncoder\u001b[49m\u001b[43m(\u001b[49m\u001b[43m)\u001b[49m\n",
      "Cell \u001b[0;32mIn[2], line 32\u001b[0m, in \u001b[0;36mEncoder.__init__\u001b[0;34m(self, ckpt_path)\u001b[0m\n\u001b[1;32m     29\u001b[0m \u001b[38;5;28;01mdef\u001b[39;00m\u001b[38;5;250m \u001b[39m\u001b[38;5;21m__init__\u001b[39m(\u001b[38;5;28mself\u001b[39m, ckpt_path\u001b[38;5;241m=\u001b[39m\u001b[38;5;124m\"\u001b[39m\u001b[38;5;124mhubert_base_ls960.pt\u001b[39m\u001b[38;5;124m\"\u001b[39m):\n\u001b[1;32m     30\u001b[0m     \u001b[38;5;28msuper\u001b[39m()\u001b[38;5;241m.\u001b[39m\u001b[38;5;21m__init__\u001b[39m()\n\u001b[0;32m---> 32\u001b[0m     state \u001b[38;5;241m=\u001b[39m \u001b[43mcheckpoint_utils\u001b[49m\u001b[38;5;241;43m.\u001b[39;49m\u001b[43mload_checkpoint_to_cpu\u001b[49m\u001b[43m(\u001b[49m\u001b[43mckpt_path\u001b[49m\u001b[43m,\u001b[49m\u001b[43m \u001b[49m\u001b[43marg_overrides\u001b[49m\u001b[43m)\u001b[49m\n\u001b[1;32m     34\u001b[0m     model, cfg, task \u001b[38;5;241m=\u001b[39m fairseq\u001b[38;5;241m.\u001b[39mcheckpoint_utils\u001b[38;5;241m.\u001b[39mload_model_ensemble_and_task([ckpt_path], state\u001b[38;5;241m=\u001b[39mstate)\n\u001b[1;32m     36\u001b[0m     model[\u001b[38;5;241m0\u001b[39m]\u001b[38;5;241m.\u001b[39mremove_pretraining_modules()\n",
      "File \u001b[0;32m/raid/home/rajivratn/hemant_rajivratn/last/third_party/fairseq/fairseq/checkpoint_utils.py:339\u001b[0m, in \u001b[0;36mload_checkpoint_to_cpu\u001b[0;34m(path, arg_overrides, load_on_all_ranks)\u001b[0m\n\u001b[1;32m    336\u001b[0m         torch\u001b[38;5;241m.\u001b[39mdistributed\u001b[38;5;241m.\u001b[39mbarrier()\n\u001b[1;32m    337\u001b[0m     local_path \u001b[38;5;241m=\u001b[39m PathManager\u001b[38;5;241m.\u001b[39mget_local_path(path)\n\u001b[0;32m--> 339\u001b[0m \u001b[38;5;28;01mwith\u001b[39;00m \u001b[38;5;28;43mopen\u001b[39;49m\u001b[43m(\u001b[49m\u001b[43mlocal_path\u001b[49m\u001b[43m,\u001b[49m\u001b[43m \u001b[49m\u001b[38;5;124;43m\"\u001b[39;49m\u001b[38;5;124;43mrb\u001b[39;49m\u001b[38;5;124;43m\"\u001b[39;49m\u001b[43m)\u001b[49m \u001b[38;5;28;01mas\u001b[39;00m f:\n\u001b[1;32m    340\u001b[0m     state \u001b[38;5;241m=\u001b[39m torch\u001b[38;5;241m.\u001b[39mload(f, map_location\u001b[38;5;241m=\u001b[39mtorch\u001b[38;5;241m.\u001b[39mdevice(\u001b[38;5;124m\"\u001b[39m\u001b[38;5;124mcpu\u001b[39m\u001b[38;5;124m\"\u001b[39m), weights_only\u001b[38;5;241m=\u001b[39m\u001b[38;5;28;01mFalse\u001b[39;00m)\n\u001b[1;32m    342\u001b[0m \u001b[38;5;28;01mif\u001b[39;00m \u001b[38;5;124m\"\u001b[39m\u001b[38;5;124margs\u001b[39m\u001b[38;5;124m\"\u001b[39m \u001b[38;5;129;01min\u001b[39;00m state \u001b[38;5;129;01mand\u001b[39;00m state[\u001b[38;5;124m\"\u001b[39m\u001b[38;5;124margs\u001b[39m\u001b[38;5;124m\"\u001b[39m] \u001b[38;5;129;01mis\u001b[39;00m \u001b[38;5;129;01mnot\u001b[39;00m \u001b[38;5;28;01mNone\u001b[39;00m \u001b[38;5;129;01mand\u001b[39;00m arg_overrides \u001b[38;5;129;01mis\u001b[39;00m \u001b[38;5;129;01mnot\u001b[39;00m \u001b[38;5;28;01mNone\u001b[39;00m:\n",
      "\u001b[0;31mFileNotFoundError\u001b[0m: [Errno 2] No such file or directory: 'hubert_base_ls960.pt'"
     ]
    }
   ],
   "source": [
    "Encoder()"
   ]
  },
  {
   "cell_type": "code",
   "execution_count": null,
   "metadata": {},
   "outputs": [],
   "source": []
  }
 ],
 "metadata": {
  "kernelspec": {
   "display_name": "last",
   "language": "python",
   "name": "python3"
  },
  "language_info": {
   "codemirror_mode": {
    "name": "ipython",
    "version": 3
   },
   "file_extension": ".py",
   "mimetype": "text/x-python",
   "name": "python",
   "nbconvert_exporter": "python",
   "pygments_lexer": "ipython3",
   "version": "3.10.16"
  }
 },
 "nbformat": 4,
 "nbformat_minor": 2
}
