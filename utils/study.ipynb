{
 "cells": [
  {
   "cell_type": "code",
   "execution_count": 72,
   "metadata": {},
   "outputs": [
    {
     "name": "stderr",
     "output_type": "stream",
     "text": [
      "/raid/home/rajivratn/.local/lib/python3.10/site-packages/tqdm/auto.py:21: TqdmWarning: IProgress not found. Please update jupyter and ipywidgets. See https://ipywidgets.readthedocs.io/en/stable/user_install.html\n",
      "  from .autonotebook import tqdm as notebook_tqdm\n"
     ]
    },
    {
     "name": "stdout",
     "output_type": "stream",
     "text": [
      "['CHAPTER ONE MISSUS RACHEL LYNDE IS SURPRISED MISSUS RACHEL LYNDE LIVED JUST WHERE THE AVONLEA MAIN ROAD DIPPED DOWN INTO A LITTLE HOLLOW FRINGED WITH ALDERS AND LADIES EARDROPS AND TRAVERSED BY A BROOK', \"THAT HAD ITS SOURCE AWAY BACK IN THE WOODS OF THE OLD CUTHBERT PLACE IT WAS REPUTED TO BE AN INTRICATE HEADLONG BROOK IN ITS EARLIER COURSE THROUGH THOSE WOODS WITH DARK SECRETS OF POOL AND CASCADE BUT BY THE TIME IT REACHED LYNDE'S HOLLOW IT WAS A QUIET WELL CONDUCTED LITTLE STREAM\"]\n"
     ]
    },
    {
     "name": "stderr",
     "output_type": "stream",
     "text": [
      "  0%|          | 910/281241 [00:02<11:35, 403.30it/s]"
     ]
    }
   ],
   "source": [
    "from g2p_en import G2p\n",
    "import os\n",
    "\n",
    "from transformers import RobertaTokenizer\n",
    "\n",
    "# Load the RoBERTa tokenizer\n",
    "tokenizer = RobertaTokenizer.from_pretrained(\"roberta-base\")\n",
    "\n",
    "\n",
    "# Initialize G2P model\n",
    "g2p = G2p()\n",
    "\n",
    "# Function to convert transcript to phonemes\n",
    "def convert_to_phonemes(text):\n",
    "    return g2p(text)\n",
    "\n",
    "# reading dataset. \n",
    "with open(\"data/transcription.txt\", \"r\") as f:\n",
    "    out = f.readlines()\n",
    "\n",
    "out = [x.split(\"\\t\")[1].strip() for x in out]\n",
    "print(out[:2])\n",
    "\n",
    "\n",
    "from tqdm.auto import tqdm \n",
    "\n",
    "w, p, s, c = 0, 0, 0, 0\n",
    "for text in tqdm(out):\n",
    "    phonemes = convert_to_phonemes(text)  # Convert to phonemes\n",
    "    phonemes = [p for p in phonemes if p != ' ']  # Remove empty phonemes\n",
    "    charcters = [c for c in text if c != ' ']  # Remove empty characters\n",
    "    \n",
    "    subwords = tokenizer.tokenize(text) # Convert the word to subwords\n",
    "    \n",
    "    w += len(text.split(\" \"))\n",
    "    c += len(charcters)\n",
    "    p += len(phonemes)\n",
    "    s += len(subwords)"
   ]
  },
  {
   "cell_type": "code",
   "execution_count": 74,
   "metadata": {},
   "outputs": [
    {
     "name": "stdout",
     "output_type": "stream",
     "text": [
      "Words: 105, Phonemes: 206, Subwords: 105\n",
      "Phoneme to word ratio: 1.9619047619047618\n",
      "Subword to word ratio: 1.0\n"
     ]
    }
   ],
   "source": [
    "print(f\"Words: {w}, Phonemes: {p}, Subwords: {s}, Characters: {c}\")\n",
    "print(f\"character to word ratio: {c/w}\")\n",
    "print(f\"Phoneme to word ratio: {p/w}\")\n",
    "print(f\"Subword to word ratio: {s/w}\")"
   ]
  },
  {
   "cell_type": "code",
   "execution_count": null,
   "metadata": {},
   "outputs": [],
   "source": []
  }
 ],
 "metadata": {
  "kernelspec": {
   "display_name": "diart",
   "language": "python",
   "name": "python3"
  },
  "language_info": {
   "codemirror_mode": {
    "name": "ipython",
    "version": 3
   },
   "file_extension": ".py",
   "mimetype": "text/x-python",
   "name": "python",
   "nbconvert_exporter": "python",
   "pygments_lexer": "ipython3",
   "version": "3.10.16"
  }
 },
 "nbformat": 4,
 "nbformat_minor": 2
}
