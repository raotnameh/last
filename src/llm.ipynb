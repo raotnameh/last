{
 "cells": [
  {
   "cell_type": "code",
   "execution_count": null,
   "id": "6e0f346d",
   "metadata": {},
   "outputs": [],
   "source": [
    "import kenlm\n",
    "import math\n",
    "\n",
    "# 1. Load your 4-gram model\n",
    "#    You can load either a plain .arpa.gz or a binary .klm file:\n",
    "#    model = kenlm.Model('4-gram.trie.klm')\n",
    "model = kenlm.Model('4-gram.arpa.gz')"
   ]
  },
  {
   "cell_type": "code",
   "execution_count": null,
   "id": "254546c8",
   "metadata": {},
   "outputs": [],
   "source": [
    "# 2. Prepare your sentences\n",
    "sentences = [\n",
    "    \"This is a well-formed sentence.\",\n",
    "    \"An entirely novel utterance appears here.\"\n",
    "    \"haer oheirn iubiqub oqfn nioqwionocnsfwcvd\"\n",
    "]\n",
    "\n",
    "# 3. Score each sentence\n",
    "for sent in sentences:\n",
    "    sent = sent.upper()\n",
    "    # a) Log₁₀-probability (default)\n",
    "    log10p = model.score(sent, bos=True, eos=True)\n",
    "    # b) Convert to log₂-probability\n",
    "    log2p = log10p / math.log10(2)\n",
    "    # c) Approximate per-word perplexity:\n",
    "    #    perplexity = 10 ** ( - log10p / N )\n",
    "    #    where N is the number of words including <s> and </s> if bos/eos=True\n",
    "    #    KenLM’s score() is the sum over all words including boundaries.\n",
    "    #    So for per-word perplexity:\n",
    "    num_tokens = len(sent.split()) + (1 if True else 0)  # +1 for either <s> or </s>, but KenLM includes both; adjust as needed\n",
    "    perp = 10 ** (-log10p / num_tokens)\n",
    "\n",
    "    print(f\"Sentence: {sent}\")\n",
    "    print(f\"  log₁₀-probability: {log10p:.4f}\")\n",
    "    print(f\"  log₂-probability: {log2p:.4f}\")\n",
    "    print(f\"  Approx. per-word perplexity: {perp:.2f}\\n\")\n"
   ]
  },
  {
   "cell_type": "code",
   "execution_count": null,
   "id": "b614dc58",
   "metadata": {},
   "outputs": [],
   "source": []
  }
 ],
 "metadata": {
  "kernelspec": {
   "display_name": "grpo",
   "language": "python",
   "name": "python3"
  },
  "language_info": {
   "codemirror_mode": {
    "name": "ipython",
    "version": 3
   },
   "file_extension": ".py",
   "mimetype": "text/x-python",
   "name": "python",
   "nbconvert_exporter": "python",
   "pygments_lexer": "ipython3",
   "version": "3.9.18"
  }
 },
 "nbformat": 4,
 "nbformat_minor": 5
}
