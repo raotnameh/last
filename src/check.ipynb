{
 "cells": [
  {
   "cell_type": "code",
   "execution_count": null,
   "metadata": {},
   "outputs": [],
   "source": [
    "from torch.utils.data import Dataset\n",
    "\n",
    "class CharLMDataset(Dataset):\n",
    "    def __init__(self, data=\"../data/transcription.txt\"):\n",
    "        \"\"\"\n",
    "        Args:\n",
    "            texts (list of str): path to dataset.\n",
    "        \"\"\"\n",
    "        # reading dataset. \n",
    "        with open(data, \"r\") as f:\n",
    "            out = f.readlines()\n",
    "        self.sentences = [x.split(\"\\t\")[1].strip() for x in out]\n",
    "        self.sentences = sorted(self.sentences, key=len)\n",
    "        self.sentences = [x for x in self.sentences if len(x) > 10] # filtering out short sentences that 2 second.\n",
    "        \n",
    "        self.texts = self.sentences\n",
    "        self.vocab = self.build_vocab(self.sentences)\n",
    "        self.char_to_idx = {char: idx for idx, char in enumerate(self.vocab)}\n",
    "        self.idx_to_char = {idx: char for char, idx in self.char_to_idx.items()}\n",
    "    \n",
    "    def build_vocab(self, texts):\n",
    "        \"\"\"Creates a sorted list of unique characters.\"\"\"\n",
    "        return sorted(set(\"\".join(texts)))\n",
    "\n",
    "    def encode(self, text):\n",
    "        \"\"\"Encodes text into a list of indices.\"\"\"\n",
    "        return [self.char_to_idx[char] for char in text]\n",
    "\n",
    "    def decode(self, indices):\n",
    "        \"\"\"Decodes indices back into text.\"\"\"\n",
    "        return \"\".join(self.idx_to_char[idx] for idx in indices)\n",
    "\n",
    "    def __len__(self):\n",
    "        return len(self.texts)\n",
    "\n",
    "    def __getitem__(self, idx):\n",
    "        text = self.texts[idx]\n",
    "        input_ids = self.encode(text)\n",
    "        return {\n",
    "            \"input_ids\": input_ids[:-1],  # Input sequence\n",
    "            \"labels\": input_ids[1:]       # Target sequence (shifted by 1)\n",
    "        }\n"
   ]
  },
  {
   "cell_type": "code",
   "execution_count": 15,
   "metadata": {},
   "outputs": [],
   "source": [
    "d = CharLMDataset()"
   ]
  },
  {
   "cell_type": "code",
   "execution_count": 19,
   "metadata": {},
   "outputs": [
    {
     "data": {
      "text/plain": [
       "[' ',\n",
       " \"'\",\n",
       " 'A',\n",
       " 'B',\n",
       " 'C',\n",
       " 'D',\n",
       " 'E',\n",
       " 'F',\n",
       " 'G',\n",
       " 'H',\n",
       " 'I',\n",
       " 'J',\n",
       " 'K',\n",
       " 'L',\n",
       " 'M',\n",
       " 'N',\n",
       " 'O',\n",
       " 'P',\n",
       " 'Q',\n",
       " 'R',\n",
       " 'S',\n",
       " 'T',\n",
       " 'U',\n",
       " 'V',\n",
       " 'W',\n",
       " 'X',\n",
       " 'Y',\n",
       " 'Z']"
      ]
     },
     "execution_count": 19,
     "metadata": {},
     "output_type": "execute_result"
    }
   ],
   "source": [
    "d.vocab"
   ]
  },
  {
   "cell_type": "code",
   "execution_count": null,
   "metadata": {},
   "outputs": [],
   "source": []
  }
 ],
 "metadata": {
  "kernelspec": {
   "display_name": "last",
   "language": "python",
   "name": "python3"
  },
  "language_info": {
   "codemirror_mode": {
    "name": "ipython",
    "version": 3
   },
   "file_extension": ".py",
   "mimetype": "text/x-python",
   "name": "python",
   "nbconvert_exporter": "python",
   "pygments_lexer": "ipython3",
   "version": "3.10.16"
  }
 },
 "nbformat": 4,
 "nbformat_minor": 2
}
