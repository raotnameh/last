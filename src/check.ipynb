{
 "cells": [
  {
   "cell_type": "code",
   "execution_count": 171,
   "metadata": {},
   "outputs": [],
   "source": [
    "import torch\n",
    "x = torch.ones(1, 2)\n",
    "z_q = torch.ones(1, 2)"
   ]
  },
  {
   "cell_type": "code",
   "execution_count": 172,
   "metadata": {},
   "outputs": [],
   "source": [
    "x[:, 0] = 1\n",
    "x[:, 1] = 1\n",
    "\n",
    "z_q[:, 0] = 1\n",
    "z_q[:, 1] = 0.5"
   ]
  },
  {
   "cell_type": "code",
   "execution_count": 173,
   "metadata": {},
   "outputs": [
    {
     "data": {
      "text/plain": [
       "(tensor([[1., 1.]]), tensor([[1.0000, 0.5000]]))"
      ]
     },
     "execution_count": 173,
     "metadata": {},
     "output_type": "execute_result"
    }
   ],
   "source": [
    "x,z_q"
   ]
  },
  {
   "cell_type": "code",
   "execution_count": 174,
   "metadata": {},
   "outputs": [
    {
     "data": {
      "text/plain": [
       "<matplotlib.collections.PathCollection at 0x7f5f1efad190>"
      ]
     },
     "execution_count": 174,
     "metadata": {},
     "output_type": "execute_result"
    },
    {
     "data": {
      "image/png": "[encoded data removed]",
      "text/plain": [
       "<Figure size 640x480 with 1 Axes>"
      ]
     },
     "metadata": {},
     "output_type": "display_data"
    }
   ],
   "source": [
    "import matplotlib.pyplot as plt\n",
    "\n",
    "plt.scatter(x[:, 0].numpy(), x[:, 1].numpy(), label='x', color='blue')\n",
    "plt.scatter(z_q[:, 0].numpy(), z_q[:, 1].numpy(), label='z_q', color='red')"
   ]
  },
  {
   "cell_type": "code",
   "execution_count": 175,
   "metadata": {},
   "outputs": [],
   "source": [
    "def get_very_efficient_rotation(u, q, e):\n",
    "    w = ((u + q) / torch.norm(u + q, dim=1, keepdim=True)).detach()\n",
    "    e = e - 2 * torch.bmm(torch.bmm(e, w.unsqueeze(-1)), w.unsqueeze(1)) \\\n",
    "        + 2 * torch.bmm(torch.bmm(e, u.unsqueeze(-1).detach()), q.unsqueeze(1).detach())\n",
    "    return e"
   ]
  },
  {
   "cell_type": "code",
   "execution_count": 176,
   "metadata": {},
   "outputs": [
    {
     "data": {
      "text/plain": [
       "tensor([1.2649, 0.6325])"
      ]
     },
     "execution_count": 176,
     "metadata": {},
     "output_type": "execute_result"
    }
   ],
   "source": [
    "get_very_efficient_rotation(x / (torch.norm(x, dim=1, keepdim=True) + 1e-6),\n",
    "                            z_q / (torch.norm(z_q, dim=1, keepdim=True) + 1e-6),\n",
    "                            x.unsqueeze(1)).squeeze()"
   ]
  },
  {
   "cell_type": "code",
   "execution_count": 177,
   "metadata": {},
   "outputs": [
    {
     "data": {
      "text/plain": [
       "tensor([0.8944, 0.4472])"
      ]
     },
     "execution_count": 177,
     "metadata": {},
     "output_type": "execute_result"
    }
   ],
   "source": [
    "import torch.nn.functional as F \n",
    "x = F.normalize(x, dim=1)\n",
    "z_q = F.normalize(z_q, dim=1)\n",
    "\n",
    "get_very_efficient_rotation(x / (torch.norm(x, dim=1, keepdim=True) + 1e-6),\n",
    "                            z_q / (torch.norm(z_q, dim=1, keepdim=True) + 1e-6),\n",
    "                            x.unsqueeze(1)).squeeze()"
   ]
  },
  {
   "cell_type": "code",
   "execution_count": 178,
   "metadata": {},
   "outputs": [
    {
     "data": {
      "text/plain": [
       "tensor([[0.8944, 0.4472]])"
      ]
     },
     "execution_count": 178,
     "metadata": {},
     "output_type": "execute_result"
    }
   ],
   "source": [
    "z_q"
   ]
  },
  {
   "cell_type": "code",
   "execution_count": 232,
   "metadata": {},
   "outputs": [
    {
     "name": "stdout",
     "output_type": "stream",
     "text": [
      "tensor([[1., 1.]]) tensor([[1., 0.]])\n",
      "Angle between x and quantized: tensor([45.])\n"
     ]
    }
   ],
   "source": [
    "def get_very_efficient_rotation(u, q, e):\n",
    "    w = ((u + q) / torch.norm(u + q, dim=1, keepdim=True)).detach()\n",
    "    e = e - 2 * torch.bmm(torch.bmm(e, w.unsqueeze(-1)), w.unsqueeze(1)) + 2 * torch.bmm(\n",
    "      torch.bmm(e, u.unsqueeze(-1).detach()), q.unsqueeze(1).detach())\n",
    "    return e\n",
    "\n",
    "b, c, h, w = 1,2,1,1\n",
    "x = torch.ones(b, c, h, w)\n",
    "quantized = torch.eye(2,2)[:1,:].unsqueeze(-1).unsqueeze(-1)\n",
    "x = x.contiguous().view(-1,c)\n",
    "quantized = quantized.contiguous().view(-1,c)\n",
    "\n",
    "print(x, quantized)\n",
    "\n",
    "x = x / (torch.norm(x, dim=1, keepdim=True))\n",
    "quantized = quantized / (torch.norm(quantized, dim=1, keepdim=True))\n",
    "print(f\"Angle between x and quantized: {torch.rad2deg(torch.acos(torch.sum(x * quantized, dim=1)))}\")\n",
    "      \n",
    "pre_norm_q = get_very_efficient_rotation(x / (torch.norm(x, dim=1, keepdim=True) ),\n",
    "                                            quantized / (torch.norm(quantized, dim=1, keepdim=True)),\n",
    "                                            x.unsqueeze(1)).squeeze()"
   ]
  },
  {
   "cell_type": "code",
   "execution_count": null,
   "metadata": {},
   "outputs": [
    {
     "name": "stdout",
     "output_type": "stream",
     "text": [
      "tensor([ 1.0000e+00, -5.9605e-08]) tensor([[1., 0.]])\n"
     ]
    }
   ],
   "source": [
    "print( pre_norm_q, quantized) # tensor([ 1.0000e+00, -5.9605e-08]) tensor([[1., 0.]])"
   ]
  },
  {
   "cell_type": "code",
   "execution_count": null,
   "metadata": {},
   "outputs": [],
   "source": []
  },
  {
   "cell_type": "code",
   "execution_count": 231,
   "metadata": {},
   "outputs": [
    {
     "data": {
      "text/plain": [
       "(tensor([[0.7071, 0.7071]]), tensor([[1., 0.]]))"
      ]
     },
     "execution_count": 231,
     "metadata": {},
     "output_type": "execute_result"
    }
   ],
   "source": [
    "x, quantized"
   ]
  },
  {
   "cell_type": "code",
   "execution_count": null,
   "metadata": {},
   "outputs": [],
   "source": []
  },
  {
   "cell_type": "code",
   "execution_count": null,
   "metadata": {},
   "outputs": [],
   "source": []
  }
 ],
 "metadata": {
  "kernelspec": {
   "display_name": "langspeech",
   "language": "python",
   "name": "python3"
  },
  "language_info": {
   "codemirror_mode": {
    "name": "ipython",
    "version": 3
   },
   "file_extension": ".py",
   "mimetype": "text/x-python",
   "name": "python",
   "nbconvert_exporter": "python",
   "pygments_lexer": "ipython3",
   "version": "3.9.21"
  }
 },
 "nbformat": 4,
 "nbformat_minor": 2
}
