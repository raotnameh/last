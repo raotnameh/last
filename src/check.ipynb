{
 "cells": [
  {
   "cell_type": "code",
   "execution_count": 47,
   "metadata": {},
   "outputs": [
    {
     "name": "stdout",
     "output_type": "stream",
     "text": [
      "Encoding Indices:\n",
      "tensor([[2, 7, 6, 4, 6, 5],\n",
      "        [0, 4, 0, 3, 8, 4],\n",
      "        [0, 4, 1, 2, 5, 5],\n",
      "        [7, 6, 9, 6, 3, 1]])\n",
      "\n",
      "Codebook Usage Histogram:\n",
      "tensor([3., 2., 2., 2., 4., 3., 4., 2., 1., 1.])\n"
     ]
    }
   ],
   "source": [
    "import torch\n",
    "\n",
    "def codebook_usage(encoding_indices, num_codebooks):\n",
    "    \"\"\"\n",
    "    Computes the codebook usage as a histogram of codebook occurrences.\n",
    "\n",
    "    Args:\n",
    "        encoding_indices (Tensor): Tensor of shape (B, T) containing codebook indices.\n",
    "        num_codebooks (int): Total number of codebook entries.\n",
    "\n",
    "    Returns:\n",
    "        Tensor: Histogram of shape (num_codebooks,), representing the count of each codebook entry.\n",
    "    \"\"\"\n",
    "    # Flatten indices across batch and time\n",
    "    flattened_indices = encoding_indices.view(-1)  # Shape: (B*T,)\n",
    "\n",
    "    # Compute histogram\n",
    "    histogram = torch.bincount(flattened_indices, minlength=num_codebooks).float()\n",
    "\n",
    "    return histogram\n",
    "\n",
    "# Dummy example\n",
    "if __name__ == \"__main__\":\n",
    "    B, T = 4, 6  # Batch size and sequence length\n",
    "    num_codebooks = 10  # Total number of codebook entries\n",
    "\n",
    "    # Randomly generated encoding indices (integers from 0 to num_codebooks-1)\n",
    "    torch.manual_seed(42)\n",
    "    encoding_indices = torch.randint(0, num_codebooks, (B, T))\n",
    "    \n",
    "    # Compute histogram\n",
    "    histogram = codebook_usage(encoding_indices, num_codebooks)\n",
    "    \n",
    "    print(\"Encoding Indices:\")\n",
    "    print(encoding_indices)\n",
    "    print(\"\\nCodebook Usage Histogram:\")\n",
    "    print(histogram)"
   ]
  },
  {
   "cell_type": "code",
   "execution_count": 50,
   "metadata": {},
   "outputs": [
    {
     "name": "stdout",
     "output_type": "stream",
     "text": [
      "tensor([6., 4., 4., 4., 8., 6., 8., 4., 2., 2.])\n"
     ]
    }
   ],
   "source": [
    "print(histogram+histogram)"
   ]
  },
  {
   "cell_type": "code",
   "execution_count": 51,
   "metadata": {},
   "outputs": [
    {
     "data": {
      "text/plain": [
       "torch.Size([10])"
      ]
     },
     "execution_count": 51,
     "metadata": {},
     "output_type": "execute_result"
    }
   ],
   "source": [
    "histogram.shape"
   ]
  },
  {
   "cell_type": "code",
   "execution_count": null,
   "metadata": {},
   "outputs": [],
   "source": []
  }
 ],
 "metadata": {
  "kernelspec": {
   "display_name": "last",
   "language": "python",
   "name": "python3"
  },
  "language_info": {
   "codemirror_mode": {
    "name": "ipython",
    "version": 3
   },
   "file_extension": ".py",
   "mimetype": "text/x-python",
   "name": "python",
   "nbconvert_exporter": "python",
   "pygments_lexer": "ipython3",
   "version": "3.10.16"
  }
 },
 "nbformat": 4,
 "nbformat_minor": 2
}
