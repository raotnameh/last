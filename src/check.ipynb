{
 "cells": [
  {
   "cell_type": "code",
   "execution_count": 1,
   "metadata": {},
   "outputs": [
    {
     "name": "stdout",
     "output_type": "stream",
     "text": [
      "input.wav\t\t ljspeechmanifest.tsv  transcription.txt\n",
      "librispeech-lm-norm.txt  train.ipynb\n"
     ]
    }
   ],
   "source": [
    "!ls /raid/home/rajivratn/hemant_rajivratn/last/data"
   ]
  },
  {
   "cell_type": "code",
   "execution_count": 2,
   "metadata": {},
   "outputs": [
    {
     "name": "stdout",
     "output_type": "stream",
     "text": [
      "Manifest file and resampled audio (overwritten) saved successfully.\n"
     ]
    }
   ],
   "source": [
    "import os\n",
    "import wave\n",
    "import soundfile as sf\n",
    "import librosa\n",
    "\n",
    "# Directory containing the .wav files\n",
    "audio_dir = \"/raid/home/rajivratn/hemant_rajivratn/ljspeech/LJSpeech-1.1/wavs\"\n",
    "manifest_file = \"/raid/home/rajivratn/hemant_rajivratn/last/data/ljspeechmanifest.tsv\"\n",
    "\n",
    "# Open the manifest file in write mode\n",
    "with open(manifest_file, 'w') as f:\n",
    "    # Write the directory path (you can modify as needed)\n",
    "    f.write(f\"{audio_dir}\\n\")\n",
    "\n",
    "    # Loop through all files in the audio directory\n",
    "    for filename in os.listdir(audio_dir):\n",
    "        if filename.endswith('.wav'):\n",
    "            # Full file path\n",
    "            file_path = os.path.join(audio_dir, filename)\n",
    "            \n",
    "            # Read the waveform and sample rate\n",
    "            waveform, sample_rate = sf.read(file_path)\n",
    "            \n",
    "            # Check if sample rate is 16000, if not resample\n",
    "            if sample_rate != 16000:\n",
    "                waveform = librosa.resample(waveform, orig_sr=sample_rate, target_sr=16000)\n",
    "                sample_rate = 16000  # After resampling, set sample rate to 16000\n",
    "            \n",
    "            # Overwrite the original file with the resampled audio\n",
    "            sf.write(file_path, waveform, sample_rate)\n",
    "            \n",
    "            # Get the number of samples (frames)\n",
    "            num_samples = len(waveform)\n",
    "            \n",
    "            # Write filename and number of samples to the manifest\n",
    "            f.write(f\"{filename}\\t{num_samples}\\n\")\n",
    "\n",
    "print(\"Manifest file and resampled audio (overwritten) saved successfully.\")"
   ]
  },
  {
   "cell_type": "code",
   "execution_count": null,
   "metadata": {},
   "outputs": [],
   "source": []
  }
 ],
 "metadata": {
  "kernelspec": {
   "display_name": "last",
   "language": "python",
   "name": "python3"
  },
  "language_info": {
   "codemirror_mode": {
    "name": "ipython",
    "version": 3
   },
   "file_extension": ".py",
   "mimetype": "text/x-python",
   "name": "python",
   "nbconvert_exporter": "python",
   "pygments_lexer": "ipython3",
   "version": "3.10.16"
  }
 },
 "nbformat": 4,
 "nbformat_minor": 2
}
