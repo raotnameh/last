{
 "cells": [
  {
   "cell_type": "code",
   "execution_count": null,
   "metadata": {},
   "outputs": [],
   "source": [
    "from g2p_en import G2p\n",
    "import os\n",
    "\n",
    "from transformers import RobertaTokenizer, BertTokenizer, GPT2Tokenizer, LlamaTokenizerFast\n",
    "\n",
    "# Load the RoBERTa tokenizer\n",
    "# tokenizer = RobertaTokenizer.from_pretrained(\"roberta-base\")\n",
    "# tokenizer = BertTokenizer.from_pretrained(\"bert-base-cased\")\n",
    "# tokenizer = GPT2Tokenizer.from_pretrained(\"openai-community/gpt2\")\n",
    "tokenizer = LlamaTokenizerFast.from_pretrained(\"hf-internal-testing/llama-tokenizer\")\n",
    "\n",
    "\n",
    "# Initialize G2P model\n",
    "g2p = G2p()\n",
    "\n",
    "# Function to convert transcript to phonemes\n",
    "def convert_to_phonemes(text):\n",
    "    return g2p(text)\n",
    "\n",
    "# reading dataset. \n",
    "with open(\"../data/transcription.txt\", \"r\") as f:\n",
    "    out = f.readlines()\n",
    "\n",
    "out = [x.split(\"\\t\")[1].strip() for x in out]\n",
    "print(out[:2])\n",
    "\n",
    "\n",
    "from tqdm.auto import tqdm \n",
    "\n",
    "w, p, s, c = 0, 0, 0, 0\n",
    "for text in tqdm(out):\n",
    "    # phonemes = convert_to_phonemes(text)  # Convert to phonemes\n",
    "    # phonemes = [p for p in phonemes if p != ' ']  # Remove empty phonemes\n",
    "    # charcters = [c for c in text if c != ' ']  # Remove empty characters\n",
    "    \n",
    "    subwords = tokenizer.tokenize(text) # Convert the word to subwords\n",
    "    \n",
    "    w += len(text.split(\" \"))\n",
    "    # c += len(charcters)\n",
    "    # p += len(phonemes)\n",
    "    s += len(subwords)"
   ]
  },
  {
   "cell_type": "code",
   "execution_count": null,
   "metadata": {},
   "outputs": [],
   "source": [
    "print(f\"Words: {w}, Phonemes: {p}, Subwords: {s}, Characters: {c}\")\n",
    "print(f\"character to word ratio: {c/w}\")\n",
    "print(f\"Phoneme to word ratio: {p/w}\")\n",
    "print(f\"Subword to word ratio: {s/w}\")"
   ]
  },
  {
   "cell_type": "code",
   "execution_count": null,
   "metadata": {},
   "outputs": [],
   "source": [
    "# size of vocabulary in the tokenizer\n",
    "tokenizer.vocab_size"
   ]
  },
  {
   "cell_type": "code",
   "execution_count": null,
   "metadata": {},
   "outputs": [],
   "source": [
    "# vocab size of the g2p model\n",
    "g2p = G2p()\n",
    "len(g2p.phonemes)"
   ]
  },
  {
   "cell_type": "code",
   "execution_count": null,
   "metadata": {},
   "outputs": [],
   "source": []
  }
 ],
 "metadata": {
  "kernelspec": {
   "display_name": "diart",
   "language": "python",
   "name": "python3"
  },
  "language_info": {
   "codemirror_mode": {
    "name": "ipython",
    "version": 3
   },
   "file_extension": ".py",
   "mimetype": "text/x-python",
   "name": "python",
   "nbconvert_exporter": "python",
   "pygments_lexer": "ipython3",
   "version": "3.10.16"
  }
 },
 "nbformat": 4,
 "nbformat_minor": 2
}
