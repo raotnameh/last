{
 "cells": [
  {
   "cell_type": "code",
   "execution_count": 34,
   "metadata": {},
   "outputs": [],
   "source": [
    "import torch\n",
    "\n",
    "class Downsample(torch.nn.Module):\n",
    "    def __init__(self, input_dim=768, output_dim=2048, kernel_size=9, stride=2):\n",
    "        super().__init__()\n",
    "        \n",
    "        self.norm = torch.nn.LayerNorm(input_dim)\n",
    "        padding = kernel_size // 2\n",
    "        self.conv = torch.nn.Conv1d(input_dim, output_dim, kernel_size=kernel_size, stride=stride, padding=padding, groups=128)\n",
    "        \n",
    "    def forward(self, x): # B x T x C \n",
    "        x = self.norm(x).contiguous()\n",
    "        \n",
    "        x = x.transpose(1, 2)\n",
    "        x = self.conv(x)\n",
    "        x = x.transpose(1, 2)\n",
    "        \n",
    "        return x # B x T x C "
   ]
  },
  {
   "cell_type": "code",
   "execution_count": 31,
   "metadata": {},
   "outputs": [
    {
     "data": {
      "text/plain": [
       "0.05888"
      ]
     },
     "execution_count": 31,
     "metadata": {},
     "output_type": "execute_result"
    }
   ],
   "source": [
    "d = Downsample()\n",
    "sum(p.numel() for p in d.parameters() if p.requires_grad) / 1e6"
   ]
  },
  {
   "cell_type": "code",
   "execution_count": 33,
   "metadata": {},
   "outputs": [
    {
     "data": {
      "text/plain": [
       "0.041216"
      ]
     },
     "execution_count": 33,
     "metadata": {},
     "output_type": "execute_result"
    }
   ],
   "source": [
    "class Upsample(torch.nn.Module):\n",
    "    def __init__(self, input_dim=2048, output_dim=256, kernel_size=9, stride=2):\n",
    "        super().__init__()\n",
    "        \n",
    "        self.norm = torch.nn.LayerNorm(input_dim)\n",
    "        self.conv = torch.nn.ConvTranspose1d( input_dim, output_dim, kernel_size, stride=stride,padding=((kernel_size - 1)) // 2, output_padding=stride - 1, groups=128)\n",
    "          \n",
    "    def forward(self, x): # B x T x C \n",
    "        x = self.norm(x)\n",
    "\n",
    "        x = x.transpose(1, 2)\n",
    "        x = self.conv(x)\n",
    "        x = x.transpose(1, 2)\n",
    "\n",
    "        return x # B x T x C \n",
    "\n",
    "u = Upsample()\n",
    "sum(p.numel() for p in u.parameters() if p.requires_grad) / 1e6"
   ]
  },
  {
   "cell_type": "code",
   "execution_count": null,
   "metadata": {},
   "outputs": [],
   "source": []
  }
 ],
 "metadata": {
  "kernelspec": {
   "display_name": "last",
   "language": "python",
   "name": "python3"
  },
  "language_info": {
   "codemirror_mode": {
    "name": "ipython",
    "version": 3
   },
   "file_extension": ".py",
   "mimetype": "text/x-python",
   "name": "python",
   "nbconvert_exporter": "python",
   "pygments_lexer": "ipython3",
   "version": "3.10.16"
  }
 },
 "nbformat": 4,
 "nbformat_minor": 2
}
