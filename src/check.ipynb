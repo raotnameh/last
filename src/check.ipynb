{
 "cells": [
  {
   "cell_type": "code",
   "execution_count": 51,
   "metadata": {},
   "outputs": [
    {
     "name": "stdout",
     "output_type": "stream",
     "text": [
      "z_q:\n",
      " tensor([[[ 1.9269,  1.4873],\n",
      "         [ 0.9007, -2.1055],\n",
      "         [ 0.6784, -1.2345],\n",
      "         [-0.0431, -1.6047]],\n",
      "\n",
      "        [[-0.7521,  1.6487],\n",
      "         [-0.3925, -1.4036],\n",
      "         [-0.7279, -0.5594],\n",
      "         [-0.7688,  0.7624]]])\n",
      "mask:\n",
      " tensor([[[1.],\n",
      "         [1.],\n",
      "         [1.],\n",
      "         [0.]],\n",
      "\n",
      "        [[1.],\n",
      "         [0.],\n",
      "         [0.],\n",
      "         [0.]]])\n",
      "pad_e:\n",
      " tensor([[[1.3525, 0.6863]]])\n"
     ]
    }
   ],
   "source": [
    "import torch\n",
    "\n",
    "# Define test parameters\n",
    "b, t, c = 2, 4, 2  # Batch size, sequence length, embedding dimension\n",
    "\n",
    "# Create dummy tensors\n",
    "torch.manual_seed(42)  # For reproducibility\n",
    "z_q = torch.randn(b, t, c)  # Random latent vectors (b, t, c)\n",
    "z = torch.randn(b, t, c)  # Random latent vectors (b, t, c)\n",
    "mask = torch.randint(0, 2, (b, t, 1), dtype=torch.float32)  # Random binary mask (b, t, 1)\n",
    "\n",
    "# Create a dummy padding embedding\n",
    "pad_e = torch.randn(1, 1, c)  # (1, 1, c)\n",
    "\n",
    "# Print dummy inputs\n",
    "print(\"z_q:\\n\", z_q)\n",
    "print(\"mask:\\n\", mask)\n",
    "print(\"pad_e:\\n\", pad_e)\n"
   ]
  },
  {
   "cell_type": "code",
   "execution_count": 52,
   "metadata": {},
   "outputs": [
    {
     "data": {
      "text/plain": [
       "tensor([[[ 1.9269,  1.4873],\n",
       "         [ 0.9007, -2.1055],\n",
       "         [ 0.6784, -1.2345],\n",
       "         [ 1.3525,  0.6863]],\n",
       "\n",
       "        [[-0.7521,  1.6487],\n",
       "         [ 1.3525,  0.6863],\n",
       "         [ 1.3525,  0.6863],\n",
       "         [ 1.3525,  0.6863]]])"
      ]
     },
     "execution_count": 52,
     "metadata": {},
     "output_type": "execute_result"
    }
   ],
   "source": [
    "torch.where(mask == 0, pad_e, z_q)  # Replace masked positions with padding embeddings"
   ]
  },
  {
   "cell_type": "code",
   "execution_count": 53,
   "metadata": {},
   "outputs": [
    {
     "data": {
      "text/plain": [
       "torch.Size([2, 4, 1])"
      ]
     },
     "execution_count": 53,
     "metadata": {},
     "output_type": "execute_result"
    }
   ],
   "source": [
    "mask.shape"
   ]
  },
  {
   "cell_type": "code",
   "execution_count": 54,
   "metadata": {},
   "outputs": [
    {
     "data": {
      "text/plain": [
       "torch.Size([2, 4, 2])"
      ]
     },
     "execution_count": 54,
     "metadata": {},
     "output_type": "execute_result"
    }
   ],
   "source": [
    "z_q.shape"
   ]
  },
  {
   "cell_type": "code",
   "execution_count": null,
   "metadata": {},
   "outputs": [],
   "source": []
  },
  {
   "cell_type": "code",
   "execution_count": null,
   "metadata": {},
   "outputs": [
    {
     "name": "stdout",
     "output_type": "stream",
     "text": [
      "/bin/bash: line 1: mask: command not found\n"
     ]
    }
   ],
   "source": []
  },
  {
   "cell_type": "code",
   "execution_count": 81,
   "metadata": {},
   "outputs": [
    {
     "data": {
      "text/plain": [
       "tensor([[[1.],\n",
       "         [1.],\n",
       "         [1.],\n",
       "         [0.]],\n",
       "\n",
       "        [[1.],\n",
       "         [0.],\n",
       "         [0.],\n",
       "         [0.]]])"
      ]
     },
     "execution_count": 81,
     "metadata": {},
     "output_type": "execute_result"
    }
   ],
   "source": [
    "mask\n"
   ]
  },
  {
   "cell_type": "code",
   "execution_count": 85,
   "metadata": {},
   "outputs": [
    {
     "data": {
      "text/plain": [
       "tensor([[[0.0810, 2.7122],\n",
       "         [1.9547, 6.4776],\n",
       "         [2.0637, 5.3493],\n",
       "         [0.0000, 0.0000]],\n",
       "\n",
       "        [[4.1260, 0.1241],\n",
       "         [0.0000, 0.0000],\n",
       "         [0.0000, 0.0000],\n",
       "         [0.0000, 0.0000]]])"
      ]
     },
     "execution_count": 85,
     "metadata": {},
     "output_type": "execute_result"
    }
   ],
   "source": [
    "mse_loss"
   ]
  },
  {
   "cell_type": "code",
   "execution_count": null,
   "metadata": {},
   "outputs": [],
   "source": [
    "import torch.nn.functional as F\n",
    "mse_loss= F.mse_loss(z , z_q.detach(), reduction='none')  * mask  # (b, t, c)\n",
    "valid_count = mask.sum() * z.shape[-1] # Total number of valid (non-masked) elements"
   ]
  },
  {
   "cell_type": "code",
   "execution_count": 112,
   "metadata": {},
   "outputs": [
    {
     "data": {
      "text/plain": [
       "8"
      ]
     },
     "execution_count": 112,
     "metadata": {},
     "output_type": "execute_result"
    }
   ],
   "source": [
    "mask.numel()"
   ]
  },
  {
   "cell_type": "code",
   "execution_count": 115,
   "metadata": {},
   "outputs": [
    {
     "name": "stdout",
     "output_type": "stream",
     "text": [
      "tensor(8.) tensor(22.8887) tensor(2.8611) tensor(1.4305)\n",
      "tensor(1.4305)\n"
     ]
    }
   ],
   "source": [
    "# Avoid division by zero\n",
    "commitment_loss = mse_loss.sum() / valid_count \n",
    "\n",
    "\n",
    "print( valid_count, mse_loss.sum(), commitment_loss, mse_loss.sum() / (mask.numel()* z.shape[-1]))\n",
    "print(F.mse_loss(z *mask, z_q.detach()*mask))"
   ]
  },
  {
   "cell_type": "code",
   "execution_count": null,
   "metadata": {},
   "outputs": [],
   "source": []
  },
  {
   "cell_type": "code",
   "execution_count": null,
   "metadata": {},
   "outputs": [],
   "source": []
  },
  {
   "cell_type": "code",
   "execution_count": 78,
   "metadata": {},
   "outputs": [
    {
     "name": "stdout",
     "output_type": "stream",
     "text": [
      "tensor(4.) tensor(22.8887) tensor(5.7222)\n"
     ]
    }
   ],
   "source": [
    "mse_loss = F.mse_loss(z * mask, z_q.detach() * mask, reduction='none')  # (b, t, c)\n",
    "valid_count = mask.sum()  # Count of valid (non-masked) elements\n",
    "\n",
    "commitment_loss = mse_loss.sum() / valid_count.clamp(min=1)  # Avoid division by zero\n",
    "\n",
    "print(valid_count, mse_loss.sum(), commitment_loss)\n"
   ]
  },
  {
   "cell_type": "code",
   "execution_count": 79,
   "metadata": {},
   "outputs": [
    {
     "name": "stdout",
     "output_type": "stream",
     "text": [
      "tensor(2.8611)\n"
     ]
    }
   ],
   "source": [
    "# Corrected global mean loss (dividing by all elements, masked and unmasked)\n",
    "print(mse_loss.sum() / mask.numel())  \n"
   ]
  },
  {
   "cell_type": "code",
   "execution_count": null,
   "metadata": {},
   "outputs": [],
   "source": []
  }
 ],
 "metadata": {
  "kernelspec": {
   "display_name": "last",
   "language": "python",
   "name": "python3"
  },
  "language_info": {
   "codemirror_mode": {
    "name": "ipython",
    "version": 3
   },
   "file_extension": ".py",
   "mimetype": "text/x-python",
   "name": "python",
   "nbconvert_exporter": "python",
   "pygments_lexer": "ipython3",
   "version": "3.10.16"
  }
 },
 "nbformat": 4,
 "nbformat_minor": 2
}
